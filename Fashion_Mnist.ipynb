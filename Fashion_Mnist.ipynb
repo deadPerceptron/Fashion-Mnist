{
  "nbformat": 4,
  "nbformat_minor": 0,
  "metadata": {
    "colab": {
      "name": "Fashion-Mnist.ipynb",
      "provenance": [],
      "collapsed_sections": [],
      "mount_file_id": "1GiEA_3MBIAaITHQwnSMapFOlU3Gdysrp",
      "authorship_tag": "ABX9TyMI02UWLB6HDzOl1dKRx36S",
      "include_colab_link": true
    },
    "kernelspec": {
      "name": "python3",
      "display_name": "Python 3"
    },
    "accelerator": "GPU"
  },
  "cells": [
    {
      "cell_type": "markdown",
      "metadata": {
        "id": "view-in-github",
        "colab_type": "text"
      },
      "source": [
        "<a href=\"https://colab.research.google.com/github/deadPerceptron/Fashion-Mnist/blob/master/Fashion_Mnist.ipynb\" target=\"_parent\"><img src=\"https://colab.research.google.com/assets/colab-badge.svg\" alt=\"Open In Colab\"/></a>"
      ]
    },
    {
      "cell_type": "code",
      "metadata": {
        "id": "ddIus4t5JGBM",
        "colab_type": "code",
        "colab": {}
      },
      "source": [
        "#Import necessary packages\n",
        "import numpy as np\n",
        "import tensorflow as tf\n",
        "from tensorflow import keras\n",
        "from keras.models import Sequential\n",
        "from keras.layers import Convolution2D\n",
        "from keras.layers import MaxPooling2D\n",
        "from keras.layers import Flatten\n",
        "from keras.layers import Dense"
      ],
      "execution_count": null,
      "outputs": []
    },
    {
      "cell_type": "code",
      "metadata": {
        "id": "3PNl_dPSeWwJ",
        "colab_type": "code",
        "colab": {}
      },
      "source": [
        "#Load Dataset__Train-test Split\n",
        "(x_train,y_train),(x_test,y_test) = keras.datasets.fashion_mnist.load_data()\n",
        "class_name = ['T-shirt', 'Trousers', 'pullover', 'dress', 'coat', 'sandal', 'shirt', 'sneaker', 'bag', 'ankle boot']"
      ],
      "execution_count": null,
      "outputs": []
    },
    {
      "cell_type": "code",
      "metadata": {
        "id": "kwI0RX0kfjKQ",
        "colab_type": "code",
        "colab": {
          "base_uri": "https://localhost:8080/",
          "height": 279
        },
        "outputId": "fa653a93-5e54-4a2a-ffe0-bce1d6b3ca78"
      },
      "source": [
        "#Show the training set\n",
        "import matplotlib.pyplot as plt\n",
        "i=5\n",
        "plt.imshow(x_train[i], cmap=plt.cm.binary)\n",
        "plt.xlabel(class_name[y_train[i]])\n",
        "plt.show()\n"
      ],
      "execution_count": null,
      "outputs": [
        {
          "output_type": "display_data",
          "data": {
            "image/png": "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\n",
            "text/plain": [
              "<Figure size 432x288 with 1 Axes>"
            ]
          },
          "metadata": {
            "tags": [],
            "needs_background": "light"
          }
        }
      ]
    },
    {
      "cell_type": "code",
      "metadata": {
        "id": "4Fig8o14e8tV",
        "colab_type": "code",
        "colab": {}
      },
      "source": [
        "#Image Preprocessing\n",
        "x_train = x_train.reshape(x_train.shape[0], 28,28,1)\n",
        "x_test = x_test.reshape(x_test.shape[0], 28,28,1)"
      ],
      "execution_count": null,
      "outputs": []
    },
    {
      "cell_type": "code",
      "metadata": {
        "id": "udNZyyqVkuxl",
        "colab_type": "code",
        "colab": {}
      },
      "source": [
        "#Create Neural Network\n",
        "classifier = Sequential()\n",
        "\n",
        "classifier.add(Convolution2D(32, (3,3), activation = 'relu', input_shape = (28,28,1)))\n",
        "\n",
        "classifier.add(MaxPooling2D(2,2))\n",
        "classifier.add(Flatten())\n",
        "\n",
        "classifier.add(Dense(128, activation ='relu'))\n",
        "classifier.add(Dense(10, activation = 'softmax'))"
      ],
      "execution_count": null,
      "outputs": []
    },
    {
      "cell_type": "code",
      "metadata": {
        "id": "hgUqkDRmmjDU",
        "colab_type": "code",
        "colab": {}
      },
      "source": [
        "classifier.compile(optimizer='adam', loss = 'sparse_categorical_crossentropy', metrics =['accuracy'])"
      ],
      "execution_count": null,
      "outputs": []
    },
    {
      "cell_type": "code",
      "metadata": {
        "id": "BBVacql7m9sL",
        "colab_type": "code",
        "colab": {
          "base_uri": "https://localhost:8080/",
          "height": 370
        },
        "outputId": "d1a98914-1b1f-435e-c575-8d25c903ad27"
      },
      "source": [
        "classifier.fit(x_train,y_train, epochs = 10)\n",
        "loss, accuracy = classifier.evaluate(x_test,y_test, verbose = 2)\n",
        "print(accuracy)"
      ],
      "execution_count": null,
      "outputs": [
        {
          "output_type": "stream",
          "text": [
            "Epoch 1/10\n",
            "60000/60000 [==============================] - 11s 182us/step - loss: 0.9849 - accuracy: 0.8369\n",
            "Epoch 2/10\n",
            "60000/60000 [==============================] - 11s 187us/step - loss: 0.3009 - accuracy: 0.8920\n",
            "Epoch 3/10\n",
            "60000/60000 [==============================] - 11s 185us/step - loss: 0.2632 - accuracy: 0.9036\n",
            "Epoch 4/10\n",
            "60000/60000 [==============================] - 11s 181us/step - loss: 0.2345 - accuracy: 0.9150\n",
            "Epoch 5/10\n",
            "60000/60000 [==============================] - 11s 181us/step - loss: 0.2177 - accuracy: 0.9193\n",
            "Epoch 6/10\n",
            "60000/60000 [==============================] - 11s 180us/step - loss: 0.1980 - accuracy: 0.9272\n",
            "Epoch 7/10\n",
            "60000/60000 [==============================] - 11s 181us/step - loss: 0.1823 - accuracy: 0.9335\n",
            "Epoch 8/10\n",
            "60000/60000 [==============================] - 11s 180us/step - loss: 0.1653 - accuracy: 0.9381\n",
            "Epoch 9/10\n",
            "60000/60000 [==============================] - 11s 182us/step - loss: 0.1539 - accuracy: 0.9441\n",
            "Epoch 10/10\n",
            "60000/60000 [==============================] - 11s 181us/step - loss: 0.1427 - accuracy: 0.9468\n",
            "0.8984000086784363\n"
          ],
          "name": "stdout"
        }
      ]
    },
    {
      "cell_type": "code",
      "metadata": {
        "id": "LnvCn7Jhn60d",
        "colab_type": "code",
        "colab": {}
      },
      
      ],
      "execution_count": null,
      "outputs": []
    },
    {
      "cell_type": "markdown",
      "metadata": {
        "id": "yto_KABdHRhx",
        "colab_type": "text"
      },
      "source": [
        ""
      ]
    }
  ]
}
